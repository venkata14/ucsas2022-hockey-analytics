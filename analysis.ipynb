{
 "cells": [
  {
   "cell_type": "code",
   "execution_count": 5,
   "id": "734ca01e-50cc-4bee-bce2-a82a0cf65430",
   "metadata": {},
   "outputs": [],
   "source": [
    "import requests\n",
    "import pickle\n",
    "# Set up the API call variables\n",
    "game_data = []\n",
    "error_id = []\n",
    "year = '2021'\n",
    "season_type = '02' \n",
    "max_game_ID = 100"
   ]
  },
  {
   "cell_type": "code",
   "execution_count": 6,
   "id": "acc75f33-6840-4d57-8636-0c399234a385",
   "metadata": {},
   "outputs": [],
   "source": [
    "# Loop over the counter and format the API call\n",
    "for i in range(0,max_game_ID):\n",
    "    game_ID = year + season_type +str(i).zfill(4)\n",
    "    try:\n",
    "        r = requests.get(url='http://statsapi.web.nhl.com/api/v1/game/'+ game_ID +'/feed/live', \n",
    "                         timeout=5)\n",
    "        data = r.json()\n",
    "        game_data.append(data)\n",
    "        # print('Finished ID', game_ID)\n",
    "    except:\n",
    "        error_id.append(game_ID)"
   ]
  },
  {
   "cell_type": "code",
   "execution_count": 7,
   "id": "bdff1c17-a48d-419d-b5f7-329692e44f6f",
   "metadata": {},
   "outputs": [
    {
     "data": {
      "text/plain": [
       "100"
      ]
     },
     "execution_count": 7,
     "metadata": {},
     "output_type": "execute_result"
    }
   ],
   "source": [
    "len(game_data)"
   ]
  },
  {
   "cell_type": "code",
   "execution_count": 8,
   "id": "8007b2ec-57df-414e-8724-ff94470dd7b5",
   "metadata": {},
   "outputs": [],
   "source": [
    "with open('./FullDataset.pkl', 'wb') as f:\n",
    "    pickle.dump(game_data, f, pickle.HIGHEST_PROTOCOL)"
   ]
  },
  {
   "cell_type": "code",
   "execution_count": 3,
   "id": "711b4f48-5fca-4eb7-a7d1-a93f60da0388",
   "metadata": {},
   "outputs": [],
   "source": [
    "import numpy as np \n",
    "import pandas as pd \n",
    "import pickle    \n",
    "import matplotlib\n",
    "import matplotlib.pyplot as plt\n",
    "color_map = plt.cm.winter\n",
    "from matplotlib.patches import RegularPolygon\n",
    "import math\n",
    "from PIL import Image\n",
    "# Needed for custom colour mapping!\n",
    "from matplotlib.colors import ListedColormap,LinearSegmentedColormap\n",
    "import matplotlib.colors as mcolors"
   ]
  },
  {
   "cell_type": "code",
   "execution_count": 9,
   "id": "932ab11d-21f6-4ba9-a246-f60898281ef5",
   "metadata": {},
   "outputs": [],
   "source": [
    "with open(\"./FullDataset.pkl\", \"rb\") as f:\n",
    "    game_data = pickle.load(f)\n",
    "\n",
    "sample = game_data[2]"
   ]
  },
  {
   "cell_type": "code",
   "execution_count": 4,
   "id": "b304a97f-a669-4cce-86de-3b40dc533330",
   "metadata": {},
   "outputs": [
    {
     "data": {
      "text/plain": [
       "['2021', '10', '13T02:00:00Z']"
      ]
     },
     "execution_count": 4,
     "metadata": {},
     "output_type": "execute_result"
    }
   ],
   "source": [
    "sample['gameData']['datetime']['dateTime'].split('-')"
   ]
  },
  {
   "cell_type": "code",
   "execution_count": 11,
   "id": "7668b4bc-88ae-40fd-ae91-28f362a6aaa5",
   "metadata": {},
   "outputs": [],
   "source": [
    "event_types = ['Shot','Goal']"
   ]
  },
  {
   "cell_type": "code",
   "execution_count": 13,
   "id": "c6631102-4192-4620-80de-861b6e345e50",
   "metadata": {},
   "outputs": [],
   "source": [
    "# event, x, y, team_o (offence team), team_d (defending team), period, player_o, year, month\n",
    "\n",
    "master_data = []\n",
    "\n",
    "for data in game_data:\n",
    "    if 'liveData' not in data or 'gameData' not in data:\n",
    "        continue\n",
    "    \n",
    "    teams = {\n",
    "        \"away\": data['gameData']['teams']['away']['name'],\n",
    "        \"home\": data['gameData']['teams']['home']['name']\n",
    "    }\n",
    "    teams_list = list(teams.values())\n",
    "    plays = data['liveData']['plays']['allPlays']\n",
    "    \n",
    "    # Year and month of game\n",
    "    date = data['gameData']['datetime']['dateTime'].split('-')\n",
    "    year = date[0]\n",
    "    month = date[1]\n",
    "    \n",
    "    for play in plays:\n",
    "        for event in event_types:\n",
    "            \n",
    "            if play['result']['event'] in [event]:\n",
    "                if 'x' in play['coordinates'] and 'y' in play['coordinates']:\n",
    "                    x = play['coordinates']['x']\n",
    "                    y = play['coordinates']['y']\n",
    "                else: \n",
    "                    print('No coordinates')\n",
    "                    continue\n",
    "                \n",
    "                TEAM = play['team']['name']\n",
    "                if TEAM:\n",
    "                    team_o = TEAM\n",
    "                    team_d = teams_list[(teams_list.index(TEAM) + 1) % 2]\n",
    "                else: \n",
    "                    print('No team name')\n",
    "                    continue\n",
    "                \n",
    "                # period\n",
    "                period = play['about']['period']\n",
    "                \n",
    "                # To get the players\n",
    "                description = play['result']['description']\n",
    "                if description:\n",
    "                    player_o = ' '.join(description.strip().split()[:2])\n",
    "                else: \n",
    "                    print('No description')\n",
    "                    continue\n",
    "                \n",
    "                master_data.append([event, x, y, team_o, team_d, period, player_o, year, month])\n",
    "                    "
   ]
  },
  {
   "cell_type": "code",
   "execution_count": 14,
   "id": "2b2e57b5-2b4a-4d6d-a9ce-692567607707",
   "metadata": {},
   "outputs": [],
   "source": [
    "df = pd.DataFrame(master_data, columns=['event', 'x', 'y', 'team_o', 'team_d', 'period', 'player_o', 'year', 'month'])"
   ]
  },
  {
   "cell_type": "code",
   "execution_count": 15,
   "id": "5d4fd39d-5c6c-44c7-9100-863da357d9bd",
   "metadata": {},
   "outputs": [
    {
     "data": {
      "text/html": [
       "<div>\n",
       "<style scoped>\n",
       "    .dataframe tbody tr th:only-of-type {\n",
       "        vertical-align: middle;\n",
       "    }\n",
       "\n",
       "    .dataframe tbody tr th {\n",
       "        vertical-align: top;\n",
       "    }\n",
       "\n",
       "    .dataframe thead th {\n",
       "        text-align: right;\n",
       "    }\n",
       "</style>\n",
       "<table border=\"1\" class=\"dataframe\">\n",
       "  <thead>\n",
       "    <tr style=\"text-align: right;\">\n",
       "      <th></th>\n",
       "      <th>event</th>\n",
       "      <th>x</th>\n",
       "      <th>y</th>\n",
       "      <th>team_o</th>\n",
       "      <th>team_d</th>\n",
       "      <th>period</th>\n",
       "      <th>player_o</th>\n",
       "      <th>year</th>\n",
       "      <th>month</th>\n",
       "    </tr>\n",
       "  </thead>\n",
       "  <tbody>\n",
       "    <tr>\n",
       "      <th>0</th>\n",
       "      <td>Shot</td>\n",
       "      <td>61.0</td>\n",
       "      <td>-32.0</td>\n",
       "      <td>Tampa Bay Lightning</td>\n",
       "      <td>Pittsburgh Penguins</td>\n",
       "      <td>1</td>\n",
       "      <td>Steven Stamkos</td>\n",
       "      <td>2021</td>\n",
       "      <td>10</td>\n",
       "    </tr>\n",
       "    <tr>\n",
       "      <th>1</th>\n",
       "      <td>Shot</td>\n",
       "      <td>-65.0</td>\n",
       "      <td>19.0</td>\n",
       "      <td>Pittsburgh Penguins</td>\n",
       "      <td>Tampa Bay Lightning</td>\n",
       "      <td>1</td>\n",
       "      <td>Brock McGinn</td>\n",
       "      <td>2021</td>\n",
       "      <td>10</td>\n",
       "    </tr>\n",
       "    <tr>\n",
       "      <th>2</th>\n",
       "      <td>Shot</td>\n",
       "      <td>-8.0</td>\n",
       "      <td>-27.0</td>\n",
       "      <td>Tampa Bay Lightning</td>\n",
       "      <td>Pittsburgh Penguins</td>\n",
       "      <td>1</td>\n",
       "      <td>Jan Rutta</td>\n",
       "      <td>2021</td>\n",
       "      <td>10</td>\n",
       "    </tr>\n",
       "    <tr>\n",
       "      <th>3</th>\n",
       "      <td>Shot</td>\n",
       "      <td>-60.0</td>\n",
       "      <td>-4.0</td>\n",
       "      <td>Pittsburgh Penguins</td>\n",
       "      <td>Tampa Bay Lightning</td>\n",
       "      <td>1</td>\n",
       "      <td>Danton Heinen</td>\n",
       "      <td>2021</td>\n",
       "      <td>10</td>\n",
       "    </tr>\n",
       "    <tr>\n",
       "      <th>4</th>\n",
       "      <td>Shot</td>\n",
       "      <td>63.0</td>\n",
       "      <td>4.0</td>\n",
       "      <td>Tampa Bay Lightning</td>\n",
       "      <td>Pittsburgh Penguins</td>\n",
       "      <td>1</td>\n",
       "      <td>Ondrej Palat</td>\n",
       "      <td>2021</td>\n",
       "      <td>10</td>\n",
       "    </tr>\n",
       "    <tr>\n",
       "      <th>...</th>\n",
       "      <td>...</td>\n",
       "      <td>...</td>\n",
       "      <td>...</td>\n",
       "      <td>...</td>\n",
       "      <td>...</td>\n",
       "      <td>...</td>\n",
       "      <td>...</td>\n",
       "      <td>...</td>\n",
       "      <td>...</td>\n",
       "    </tr>\n",
       "    <tr>\n",
       "      <th>6198</th>\n",
       "      <td>Shot</td>\n",
       "      <td>68.0</td>\n",
       "      <td>10.0</td>\n",
       "      <td>Chicago Blackhawks</td>\n",
       "      <td>Toronto Maple Leafs</td>\n",
       "      <td>4</td>\n",
       "      <td>Brandon Hagel</td>\n",
       "      <td>2021</td>\n",
       "      <td>10</td>\n",
       "    </tr>\n",
       "    <tr>\n",
       "      <th>6199</th>\n",
       "      <td>Shot</td>\n",
       "      <td>-50.0</td>\n",
       "      <td>15.0</td>\n",
       "      <td>Toronto Maple Leafs</td>\n",
       "      <td>Chicago Blackhawks</td>\n",
       "      <td>4</td>\n",
       "      <td>Mitchell Marner</td>\n",
       "      <td>2021</td>\n",
       "      <td>10</td>\n",
       "    </tr>\n",
       "    <tr>\n",
       "      <th>6200</th>\n",
       "      <td>Shot</td>\n",
       "      <td>-58.0</td>\n",
       "      <td>24.0</td>\n",
       "      <td>Toronto Maple Leafs</td>\n",
       "      <td>Chicago Blackhawks</td>\n",
       "      <td>4</td>\n",
       "      <td>John Tavares</td>\n",
       "      <td>2021</td>\n",
       "      <td>10</td>\n",
       "    </tr>\n",
       "    <tr>\n",
       "      <th>6201</th>\n",
       "      <td>Shot</td>\n",
       "      <td>69.0</td>\n",
       "      <td>5.0</td>\n",
       "      <td>Chicago Blackhawks</td>\n",
       "      <td>Toronto Maple Leafs</td>\n",
       "      <td>4</td>\n",
       "      <td>Seth Jones</td>\n",
       "      <td>2021</td>\n",
       "      <td>10</td>\n",
       "    </tr>\n",
       "    <tr>\n",
       "      <th>6202</th>\n",
       "      <td>Goal</td>\n",
       "      <td>-71.0</td>\n",
       "      <td>-4.0</td>\n",
       "      <td>Toronto Maple Leafs</td>\n",
       "      <td>Chicago Blackhawks</td>\n",
       "      <td>4</td>\n",
       "      <td>William Nylander</td>\n",
       "      <td>2021</td>\n",
       "      <td>10</td>\n",
       "    </tr>\n",
       "  </tbody>\n",
       "</table>\n",
       "<p>6203 rows × 9 columns</p>\n",
       "</div>"
      ],
      "text/plain": [
       "     event     x     y               team_o               team_d  period  \\\n",
       "0     Shot  61.0 -32.0  Tampa Bay Lightning  Pittsburgh Penguins       1   \n",
       "1     Shot -65.0  19.0  Pittsburgh Penguins  Tampa Bay Lightning       1   \n",
       "2     Shot  -8.0 -27.0  Tampa Bay Lightning  Pittsburgh Penguins       1   \n",
       "3     Shot -60.0  -4.0  Pittsburgh Penguins  Tampa Bay Lightning       1   \n",
       "4     Shot  63.0   4.0  Tampa Bay Lightning  Pittsburgh Penguins       1   \n",
       "...    ...   ...   ...                  ...                  ...     ...   \n",
       "6198  Shot  68.0  10.0   Chicago Blackhawks  Toronto Maple Leafs       4   \n",
       "6199  Shot -50.0  15.0  Toronto Maple Leafs   Chicago Blackhawks       4   \n",
       "6200  Shot -58.0  24.0  Toronto Maple Leafs   Chicago Blackhawks       4   \n",
       "6201  Shot  69.0   5.0   Chicago Blackhawks  Toronto Maple Leafs       4   \n",
       "6202  Goal -71.0  -4.0  Toronto Maple Leafs   Chicago Blackhawks       4   \n",
       "\n",
       "              player_o  year month  \n",
       "0       Steven Stamkos  2021    10  \n",
       "1         Brock McGinn  2021    10  \n",
       "2            Jan Rutta  2021    10  \n",
       "3        Danton Heinen  2021    10  \n",
       "4         Ondrej Palat  2021    10  \n",
       "...                ...   ...   ...  \n",
       "6198     Brandon Hagel  2021    10  \n",
       "6199   Mitchell Marner  2021    10  \n",
       "6200      John Tavares  2021    10  \n",
       "6201        Seth Jones  2021    10  \n",
       "6202  William Nylander  2021    10  \n",
       "\n",
       "[6203 rows x 9 columns]"
      ]
     },
     "execution_count": 15,
     "metadata": {},
     "output_type": "execute_result"
    }
   ],
   "source": [
    "df"
   ]
  },
  {
   "cell_type": "code",
   "execution_count": 8,
   "id": "5c459be5-9291-49a2-846b-ff0f66122bc9",
   "metadata": {},
   "outputs": [
    {
     "data": {
      "text/plain": [
       "array(['Tampa Bay Lightning', 'Pittsburgh Penguins', 'Seattle Kraken',\n",
       "       'Vegas Golden Knights', 'Montréal Canadiens',\n",
       "       'Toronto Maple Leafs', 'New York Rangers', 'Washington Capitals',\n",
       "       'Colorado Avalanche', 'Chicago Blackhawks', 'Vancouver Canucks',\n",
       "       'Edmonton Oilers', 'Buffalo Sabres', 'Ottawa Senators',\n",
       "       'Detroit Red Wings', 'Florida Panthers', 'Dallas Stars',\n",
       "       'New York Islanders', 'Carolina Hurricanes',\n",
       "       'Columbus Blue Jackets', 'Arizona Coyotes', 'Nashville Predators',\n",
       "       'Winnipeg Jets', 'Anaheim Ducks', 'Los Angeles Kings',\n",
       "       'New Jersey Devils', 'Philadelphia Flyers', 'Minnesota Wild',\n",
       "       'Boston Bruins', 'St. Louis Blues', 'Calgary Flames',\n",
       "       'San Jose Sharks'], dtype=object)"
      ]
     },
     "execution_count": 8,
     "metadata": {},
     "output_type": "execute_result"
    }
   ],
   "source": [
    "df['team_o'].unique()"
   ]
  },
  {
   "cell_type": "code",
   "execution_count": 17,
   "id": "b707d700-6018-4d08-93a7-78c706d8f025",
   "metadata": {},
   "outputs": [],
   "source": [
    "coors = df[ (df['team_d'] == 'Tampa Bay Lightning') & (df['event'] == 'Goal') ][['x', 'y']]"
   ]
  },
  {
   "cell_type": "code",
   "execution_count": 18,
   "id": "8d48100d",
   "metadata": {},
   "outputs": [
    {
     "data": {
      "text/html": [
       "<div>\n",
       "<style scoped>\n",
       "    .dataframe tbody tr th:only-of-type {\n",
       "        vertical-align: middle;\n",
       "    }\n",
       "\n",
       "    .dataframe tbody tr th {\n",
       "        vertical-align: top;\n",
       "    }\n",
       "\n",
       "    .dataframe thead th {\n",
       "        text-align: right;\n",
       "    }\n",
       "</style>\n",
       "<table border=\"1\" class=\"dataframe\">\n",
       "  <thead>\n",
       "    <tr style=\"text-align: right;\">\n",
       "      <th></th>\n",
       "      <th>x</th>\n",
       "      <th>y</th>\n",
       "    </tr>\n",
       "  </thead>\n",
       "  <tbody>\n",
       "    <tr>\n",
       "      <th>21</th>\n",
       "      <td>74.0</td>\n",
       "      <td>-9.0</td>\n",
       "    </tr>\n",
       "    <tr>\n",
       "      <th>23</th>\n",
       "      <td>72.0</td>\n",
       "      <td>2.0</td>\n",
       "    </tr>\n",
       "    <tr>\n",
       "      <th>48</th>\n",
       "      <td>-52.0</td>\n",
       "      <td>29.0</td>\n",
       "    </tr>\n",
       "    <tr>\n",
       "      <th>55</th>\n",
       "      <td>-63.0</td>\n",
       "      <td>14.0</td>\n",
       "    </tr>\n",
       "    <tr>\n",
       "      <th>58</th>\n",
       "      <td>31.0</td>\n",
       "      <td>32.0</td>\n",
       "    </tr>\n",
       "    <tr>\n",
       "      <th>59</th>\n",
       "      <td>24.0</td>\n",
       "      <td>10.0</td>\n",
       "    </tr>\n",
       "    <tr>\n",
       "      <th>553</th>\n",
       "      <td>-86.0</td>\n",
       "      <td>1.0</td>\n",
       "    </tr>\n",
       "    <tr>\n",
       "      <th>560</th>\n",
       "      <td>64.0</td>\n",
       "      <td>3.0</td>\n",
       "    </tr>\n",
       "    <tr>\n",
       "      <th>569</th>\n",
       "      <td>85.0</td>\n",
       "      <td>-1.0</td>\n",
       "    </tr>\n",
       "    <tr>\n",
       "      <th>574</th>\n",
       "      <td>82.0</td>\n",
       "      <td>8.0</td>\n",
       "    </tr>\n",
       "    <tr>\n",
       "      <th>591</th>\n",
       "      <td>-77.0</td>\n",
       "      <td>10.0</td>\n",
       "    </tr>\n",
       "    <tr>\n",
       "      <th>595</th>\n",
       "      <td>-70.0</td>\n",
       "      <td>0.0</td>\n",
       "    </tr>\n",
       "    <tr>\n",
       "      <th>1709</th>\n",
       "      <td>58.0</td>\n",
       "      <td>-2.0</td>\n",
       "    </tr>\n",
       "    <tr>\n",
       "      <th>2629</th>\n",
       "      <td>64.0</td>\n",
       "      <td>-27.0</td>\n",
       "    </tr>\n",
       "    <tr>\n",
       "      <th>2646</th>\n",
       "      <td>-77.0</td>\n",
       "      <td>2.0</td>\n",
       "    </tr>\n",
       "    <tr>\n",
       "      <th>2658</th>\n",
       "      <td>-75.0</td>\n",
       "      <td>14.0</td>\n",
       "    </tr>\n",
       "    <tr>\n",
       "      <th>2662</th>\n",
       "      <td>-49.0</td>\n",
       "      <td>20.0</td>\n",
       "    </tr>\n",
       "    <tr>\n",
       "      <th>4260</th>\n",
       "      <td>-80.0</td>\n",
       "      <td>1.0</td>\n",
       "    </tr>\n",
       "    <tr>\n",
       "      <th>4283</th>\n",
       "      <td>76.0</td>\n",
       "      <td>-18.0</td>\n",
       "    </tr>\n",
       "    <tr>\n",
       "      <th>4301</th>\n",
       "      <td>-51.0</td>\n",
       "      <td>-29.0</td>\n",
       "    </tr>\n",
       "    <tr>\n",
       "      <th>4316</th>\n",
       "      <td>-77.0</td>\n",
       "      <td>2.0</td>\n",
       "    </tr>\n",
       "    <tr>\n",
       "      <th>4318</th>\n",
       "      <td>-66.0</td>\n",
       "      <td>0.0</td>\n",
       "    </tr>\n",
       "    <tr>\n",
       "      <th>4319</th>\n",
       "      <td>-75.0</td>\n",
       "      <td>-2.0</td>\n",
       "    </tr>\n",
       "    <tr>\n",
       "      <th>5187</th>\n",
       "      <td>69.0</td>\n",
       "      <td>-11.0</td>\n",
       "    </tr>\n",
       "    <tr>\n",
       "      <th>5220</th>\n",
       "      <td>-77.0</td>\n",
       "      <td>-6.0</td>\n",
       "    </tr>\n",
       "    <tr>\n",
       "      <th>5226</th>\n",
       "      <td>59.0</td>\n",
       "      <td>-4.0</td>\n",
       "    </tr>\n",
       "    <tr>\n",
       "      <th>5237</th>\n",
       "      <td>-90.0</td>\n",
       "      <td>33.0</td>\n",
       "    </tr>\n",
       "    <tr>\n",
       "      <th>5242</th>\n",
       "      <td>40.0</td>\n",
       "      <td>22.0</td>\n",
       "    </tr>\n",
       "    <tr>\n",
       "      <th>5745</th>\n",
       "      <td>79.0</td>\n",
       "      <td>2.0</td>\n",
       "    </tr>\n",
       "  </tbody>\n",
       "</table>\n",
       "</div>"
      ],
      "text/plain": [
       "         x     y\n",
       "21    74.0  -9.0\n",
       "23    72.0   2.0\n",
       "48   -52.0  29.0\n",
       "55   -63.0  14.0\n",
       "58    31.0  32.0\n",
       "59    24.0  10.0\n",
       "553  -86.0   1.0\n",
       "560   64.0   3.0\n",
       "569   85.0  -1.0\n",
       "574   82.0   8.0\n",
       "591  -77.0  10.0\n",
       "595  -70.0   0.0\n",
       "1709  58.0  -2.0\n",
       "2629  64.0 -27.0\n",
       "2646 -77.0   2.0\n",
       "2658 -75.0  14.0\n",
       "2662 -49.0  20.0\n",
       "4260 -80.0   1.0\n",
       "4283  76.0 -18.0\n",
       "4301 -51.0 -29.0\n",
       "4316 -77.0   2.0\n",
       "4318 -66.0   0.0\n",
       "4319 -75.0  -2.0\n",
       "5187  69.0 -11.0\n",
       "5220 -77.0  -6.0\n",
       "5226  59.0  -4.0\n",
       "5237 -90.0  33.0\n",
       "5242  40.0  22.0\n",
       "5745  79.0   2.0"
      ]
     },
     "execution_count": 18,
     "metadata": {},
     "output_type": "execute_result"
    }
   ],
   "source": [
    "coors"
   ]
  },
  {
   "cell_type": "code",
   "execution_count": 51,
   "id": "37c5af27-2f0d-41a7-bb29-e5303b80177c",
   "metadata": {},
   "outputs": [],
   "source": [
    "mask = (coors.x < 0).values\n",
    "\n",
    "mask_values = mask.astype(np.int64)"
   ]
  },
  {
   "cell_type": "code",
   "execution_count": 52,
   "id": "48fa6d5e-52ff-4870-a812-d8f3a4ec6946",
   "metadata": {},
   "outputs": [],
   "source": [
    "y_mask = np.where(mask_values == 0, 1, -1)"
   ]
  },
  {
   "cell_type": "code",
   "execution_count": 53,
   "id": "684a0e9f-c72e-4404-be1f-63c108bf26d2",
   "metadata": {},
   "outputs": [
    {
     "data": {
      "text/plain": [
       "21      -9.0\n",
       "23       2.0\n",
       "48     -29.0\n",
       "55     -14.0\n",
       "58      32.0\n",
       "59      10.0\n",
       "553     -1.0\n",
       "560      3.0\n",
       "569     -1.0\n",
       "574      8.0\n",
       "591    -10.0\n",
       "595     -0.0\n",
       "1709    -2.0\n",
       "2629   -27.0\n",
       "2646    -2.0\n",
       "2658   -14.0\n",
       "2662   -20.0\n",
       "4260    -1.0\n",
       "4283   -18.0\n",
       "4301    29.0\n",
       "4316    -2.0\n",
       "4318    -0.0\n",
       "4319     2.0\n",
       "5187   -11.0\n",
       "5220     6.0\n",
       "5226    -4.0\n",
       "5237   -33.0\n",
       "5242    22.0\n",
       "5745     2.0\n",
       "Name: y, dtype: float64"
      ]
     },
     "execution_count": 53,
     "metadata": {},
     "output_type": "execute_result"
    }
   ],
   "source": [
    "coors.y * y_mask"
   ]
  },
  {
   "cell_type": "code",
   "execution_count": 54,
   "id": "bd40d407-8491-427c-98a9-45b819325be1",
   "metadata": {},
   "outputs": [],
   "source": [
    "def y_coor_aug(df):\n",
    "    mask_values = (df.x < 0).values.astype(np.int64)\n",
    "    return np.where(mask_values == 0, 1, -1)\n",
    "    "
   ]
  },
  {
   "cell_type": "code",
   "execution_count": 144,
   "id": "2c58b835-3ecc-49d3-8ed7-e19b4d9fdfd2",
   "metadata": {},
   "outputs": [
    {
     "data": {
      "image/png": "[encoded data removed]",
      "text/plain": [
       "<Figure size 432x288 with 1 Axes>"
      ]
     },
     "metadata": {
      "needs_background": "light"
     },
     "output_type": "display_data"
    }
   ],
   "source": [
    "y_mask = y_coor_aug(coors)\n",
    "x = coors.x.abs()\n",
    "y = coors.y * y_mask\n",
    "\n",
    "\n",
    "plt.scatter(x, y)\n",
    "plt.show()"
   ]
  },
  {
   "cell_type": "code",
   "execution_count": 145,
   "id": "7a983787-6862-41cf-a513-2c8f50c90970",
   "metadata": {},
   "outputs": [],
   "source": [
    "from PIL import Image, ImageOps\n",
    "\n",
    "image_file = \"Hockey-field-half.png\"\n",
    "image = Image.open(image_file).resize((400,340))\n",
    "image_arr = np.array(image.getdata())"
   ]
  },
  {
   "cell_type": "code",
   "execution_count": 146,
   "id": "0ec289dd-58a7-4dbe-a2b6-90b0b4da1de5",
   "metadata": {},
   "outputs": [],
   "source": [
    "image_arr = image_arr.reshape(image.size[1], image.size[0], 4)"
   ]
  },
  {
   "cell_type": "code",
   "execution_count": 156,
   "id": "a4b13065-c357-4c3b-aeca-1deaedc619d1",
   "metadata": {},
   "outputs": [
    {
     "data": {
      "image/png": "[encoded data removed]",
      "text/plain": [
       "<Figure size 432x288 with 1 Axes>"
      ]
     },
     "metadata": {
      "needs_background": "light"
     },
     "output_type": "display_data"
    }
   ],
   "source": [
    "plt.imshow(image_arr, extent=[0,100, -42.5, 42.5])\n",
    "plt.scatter(x, y, marker=\"+\", color=\"blue\")\n",
    "\n",
    "ax = plt.gca() #get current axes\n",
    "\n",
    "#hide x-axis\n",
    "ax.get_xaxis().set_visible(False)\n",
    "ax.get_yaxis().set_visible(False)\n",
    "\n",
    "ax.spines[[\"right\", 'left', \"top\", \"bottom\"]].set_visible(False)\n",
    "# plt.show()"
   ]
  },
  {
   "cell_type": "code",
   "execution_count": 158,
   "id": "176678f6-3ea7-46ab-9a30-fc603b26aa7d",
   "metadata": {},
   "outputs": [
    {
     "data": {
      "image/png": "[encoded data removed]",
      "text/plain": [
       "<Figure size 432x288 with 1 Axes>"
      ]
     },
     "metadata": {
      "needs_background": "light"
     },
     "output_type": "display_data"
    }
   ],
   "source": [
    "from scipy.stats import kde # https://www.python-graph-gallery.com/85-density-plot-with-matplotlib\n",
    "\n",
    "# Evaluate a gaussian kde on a regular grid of nbins x nbins over data extents\n",
    "nbins=300\n",
    "k = kde.gaussian_kde([x,y])\n",
    "xi, yi = np.mgrid[x.min():x.max():nbins*1j, y.min():y.max():nbins*1j]\n",
    "zi = k(np.vstack([xi.flatten(), yi.flatten()]))\n",
    " \n",
    "# Make the plot\n",
    "plt.pcolormesh(xi, yi, zi.reshape(xi.shape), shading='Gouraud')\n",
    "plt.scatter(x, y)\n",
    "plt.imshow(image_arr, extent=[0,100, -42.5, 42.5])\n",
    "\n",
    "\n",
    "plt.show()"
   ]
  },
  {
   "cell_type": "code",
   "execution_count": null,
   "id": "b478469a-5bdd-414c-9cf9-cf42527637ac",
   "metadata": {},
   "outputs": [],
   "source": []
  }
 ],
 "metadata": {
  "kernelspec": {
   "display_name": "Python 3 (ipykernel)",
   "language": "python",
   "name": "python3"
  },
  "language_info": {
   "codemirror_mode": {
    "name": "ipython",
    "version": 3
   },
   "file_extension": ".py",
   "mimetype": "text/x-python",
   "name": "python",
   "nbconvert_exporter": "python",
   "pygments_lexer": "ipython3",
   "version": "3.7.9"
  }
 },
 "nbformat": 4,
 "nbformat_minor": 5
}
